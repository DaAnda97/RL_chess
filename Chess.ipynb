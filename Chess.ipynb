{
  "nbformat": 4,
  "nbformat_minor": 0,
  "metadata": {
    "colab": {
      "name": "MinMax-Chess.ipynb",
      "provenance": []
    },
    "kernelspec": {
      "name": "python3",
      "display_name": "Python 3"
    },
    "language_info": {
      "name": "python"
    }
  },
  "cells": [
    {
      "cell_type": "markdown",
      "metadata": {
        "id": "gdRCPe5bJgd9"
      },
      "source": [
        "# 0) Aufsetzen der Umgebung"
      ]
    },
    {
      "cell_type": "code",
      "metadata": {
        "colab": {
          "base_uri": "https://localhost:8080/"
        },
        "id": "eT6xmuNaCPn6",
        "outputId": "e27ba26b-f27b-45ff-8645-be93e45672d0"
      },
      "source": [
        "!pip install gym_chess\n",
        "!pip install cairosvg\n",
        "!pip install opencv-python\n",
        "!mkdir ./videos"
      ],
      "execution_count": 1,
      "outputs": [
        {
          "output_type": "stream",
          "text": [
            "Requirement already satisfied: gym_chess in /usr/local/lib/python3.7/dist-packages (0.1.1)\n",
            "Requirement already satisfied: python-chess<0.32.0,>=0.31.1 in /usr/local/lib/python3.7/dist-packages (from gym_chess) (0.31.4)\n",
            "Requirement already satisfied: gym<0.18.0,>=0.17.2 in /usr/local/lib/python3.7/dist-packages (from gym_chess) (0.17.3)\n",
            "Requirement already satisfied: scipy in /usr/local/lib/python3.7/dist-packages (from gym<0.18.0,>=0.17.2->gym_chess) (1.4.1)\n",
            "Requirement already satisfied: pyglet<=1.5.0,>=1.4.0 in /usr/local/lib/python3.7/dist-packages (from gym<0.18.0,>=0.17.2->gym_chess) (1.5.0)\n",
            "Requirement already satisfied: cloudpickle<1.7.0,>=1.2.0 in /usr/local/lib/python3.7/dist-packages (from gym<0.18.0,>=0.17.2->gym_chess) (1.3.0)\n",
            "Requirement already satisfied: numpy>=1.10.4 in /usr/local/lib/python3.7/dist-packages (from gym<0.18.0,>=0.17.2->gym_chess) (1.19.5)\n",
            "Requirement already satisfied: future in /usr/local/lib/python3.7/dist-packages (from pyglet<=1.5.0,>=1.4.0->gym<0.18.0,>=0.17.2->gym_chess) (0.16.0)\n",
            "Requirement already satisfied: cairosvg in /usr/local/lib/python3.7/dist-packages (2.5.2)\n",
            "Requirement already satisfied: defusedxml in /usr/local/lib/python3.7/dist-packages (from cairosvg) (0.7.1)\n",
            "Requirement already satisfied: cssselect2 in /usr/local/lib/python3.7/dist-packages (from cairosvg) (0.4.1)\n",
            "Requirement already satisfied: tinycss2 in /usr/local/lib/python3.7/dist-packages (from cairosvg) (1.1.0)\n",
            "Requirement already satisfied: pillow in /usr/local/lib/python3.7/dist-packages (from cairosvg) (7.1.2)\n",
            "Requirement already satisfied: cairocffi in /usr/local/lib/python3.7/dist-packages (from cairosvg) (1.2.0)\n",
            "Requirement already satisfied: webencodings in /usr/local/lib/python3.7/dist-packages (from cssselect2->cairosvg) (0.5.1)\n",
            "Requirement already satisfied: cffi>=1.1.0 in /usr/local/lib/python3.7/dist-packages (from cairocffi->cairosvg) (1.14.5)\n",
            "Requirement already satisfied: pycparser in /usr/local/lib/python3.7/dist-packages (from cffi>=1.1.0->cairocffi->cairosvg) (2.20)\n",
            "Requirement already satisfied: opencv-python in /usr/local/lib/python3.7/dist-packages (4.1.2.30)\n",
            "Requirement already satisfied: numpy>=1.14.5 in /usr/local/lib/python3.7/dist-packages (from opencv-python) (1.19.5)\n",
            "mkdir: cannot create directory ‘./videos’: File exists\n"
          ],
          "name": "stdout"
        }
      ]
    },
    {
      "cell_type": "code",
      "metadata": {
        "id": "HbFkB7W7lT-F"
      },
      "source": [
        "import numpy as np\n",
        "import random\n",
        "import gym\n",
        "import gym_chess\n",
        "import chess\n",
        "import chess.svg\n",
        "import chess.polyglot\n",
        "\n",
        "from datetime import datetime\n",
        "import timeit\n",
        "from io import BytesIO\n",
        "from PIL import Image\n",
        "from cairosvg import svg2png\n",
        "import cv2\n",
        "from IPython.display import clear_output"
      ],
      "execution_count": 2,
      "outputs": []
    },
    {
      "cell_type": "code",
      "metadata": {
        "id": "ISM8uZsv2cCy"
      },
      "source": [
        "def write_video(svgs):\n",
        "  out = cv2.VideoWriter(f'videos/game_{datetime.now()}.mp4', cv2.VideoWriter_fourcc(*'MP4V'), 3, (350, 350))\n",
        "\n",
        "  for svg in svgs:\n",
        "    png = convert_svg_to_png(svg)\n",
        "    out.write(png)\n",
        "\n",
        "  out.release()\n",
        "\n",
        "\n",
        "def convert_svg_to_png(svg):  \n",
        "  png = svg2png(svg)\n",
        "  pil_img = Image.open(BytesIO(png)).convert('RGBA')\n",
        "  png = cv2.cvtColor(np.array(pil_img), cv2.IMREAD_COLOR)  \n",
        "\n",
        "  return png"
      ],
      "execution_count": 3,
      "outputs": []
    },
    {
      "cell_type": "markdown",
      "metadata": {
        "id": "b2A1fDE7xj96"
      },
      "source": [
        "# 1) Minimax implementation\n",
        "\n",
        "https://andreasstckl.medium.com/writing-a-chess-program-in-one-day-30daff4610ec"
      ]
    },
    {
      "cell_type": "code",
      "metadata": {
        "id": "mjiMFwc56cch"
      },
      "source": [
        "def evaluate_board():\n",
        "    \n",
        "    if board.is_checkmate():\n",
        "        if board.turn:\n",
        "            return -9999\n",
        "        else:\n",
        "            return 9999\n",
        "    if board.is_stalemate():\n",
        "        return 0\n",
        "    if board.is_insufficient_material():\n",
        "        return 0\n",
        "    \n",
        "    wp = len(board.pieces(chess.PAWN, chess.WHITE))\n",
        "    bp = len(board.pieces(chess.PAWN, chess.BLACK))\n",
        "    wn = len(board.pieces(chess.KNIGHT, chess.WHITE))\n",
        "    bn = len(board.pieces(chess.KNIGHT, chess.BLACK))\n",
        "    wb = len(board.pieces(chess.BISHOP, chess.WHITE))\n",
        "    bb = len(board.pieces(chess.BISHOP, chess.BLACK))\n",
        "    wr = len(board.pieces(chess.ROOK, chess.WHITE))\n",
        "    br = len(board.pieces(chess.ROOK, chess.BLACK))\n",
        "    wq = len(board.pieces(chess.QUEEN, chess.WHITE))\n",
        "    bq = len(board.pieces(chess.QUEEN, chess.BLACK))\n",
        "    \n",
        "    material = 100*(wp-bp)+320*(wn-bn)+330*(wb-bb)+500*(wr-br)+900*(wq-bq)\n",
        "    \n",
        "    pawnsq = sum([pawntable[i] for i in board.pieces(chess.PAWN, chess.WHITE)])\n",
        "    pawnsq= pawnsq + sum([-pawntable[chess.square_mirror(i)] \n",
        "                                    for i in board.pieces(chess.PAWN, chess.BLACK)])\n",
        "    knightsq = sum([knightstable[i] for i in board.pieces(chess.KNIGHT, chess.WHITE)])\n",
        "    knightsq = knightsq + sum([-knightstable[chess.square_mirror(i)] \n",
        "                                    for i in board.pieces(chess.KNIGHT, chess.BLACK)])\n",
        "    bishopsq= sum([bishopstable[i] for i in board.pieces(chess.BISHOP, chess.WHITE)])\n",
        "    bishopsq= bishopsq + sum([-bishopstable[chess.square_mirror(i)] \n",
        "                                    for i in board.pieces(chess.BISHOP, chess.BLACK)])\n",
        "    rooksq = sum([rookstable[i] for i in board.pieces(chess.ROOK, chess.WHITE)]) \n",
        "    rooksq = rooksq + sum([-rookstable[chess.square_mirror(i)] \n",
        "                                    for i in board.pieces(chess.ROOK, chess.BLACK)])\n",
        "    queensq = sum([queenstable[i] for i in board.pieces(chess.QUEEN, chess.WHITE)]) \n",
        "    queensq = queensq + sum([-queenstable[chess.square_mirror(i)] \n",
        "                                    for i in board.pieces(chess.QUEEN, chess.BLACK)])\n",
        "    kingsq = sum([kingstable[i] for i in board.pieces(chess.KING, chess.WHITE)]) \n",
        "    kingsq = kingsq + sum([-kingstable[chess.square_mirror(i)] \n",
        "                                    for i in board.pieces(chess.KING, chess.BLACK)])\n",
        "    \n",
        "    eval = material + pawnsq + knightsq + bishopsq+ rooksq+ queensq + kingsq\n",
        "    if board.turn:\n",
        "        return eval\n",
        "    else:\n",
        "        return -eval"
      ],
      "execution_count": 4,
      "outputs": []
    },
    {
      "cell_type": "code",
      "metadata": {
        "id": "2iaaTkzG4gLF"
      },
      "source": [
        "pawntable = [\n",
        " 0,  0,  0,  0,  0,  0,  0,  0,\n",
        " 5, 10, 10,-20,-20, 10, 10,  5,\n",
        " 5, -5,-10,  0,  0,-10, -5,  5,\n",
        " 0,  0,  0, 20, 20,  0,  0,  0,\n",
        " 5,  5, 10, 25, 25, 10,  5,  5,\n",
        "10, 10, 20, 30, 30, 20, 10, 10,\n",
        "50, 50, 50, 50, 50, 50, 50, 50,\n",
        " 0,  0,  0,  0,  0,  0,  0,  0]\n",
        "\n",
        "knightstable = [\n",
        "-50,-40,-30,-30,-30,-30,-40,-50,\n",
        "-40,-20,  0,  5,  5,  0,-20,-40,\n",
        "-30,  5, 10, 15, 15, 10,  5,-30,\n",
        "-30,  0, 15, 20, 20, 15,  0,-30,\n",
        "-30,  5, 15, 20, 20, 15,  5,-30,\n",
        "-30,  0, 10, 15, 15, 10,  0,-30,\n",
        "-40,-20,  0,  0,  0,  0,-20,-40,\n",
        "-50,-40,-30,-30,-30,-30,-40,-50]\n",
        "\n",
        "bishopstable = [\n",
        "-20,-10,-10,-10,-10,-10,-10,-20,\n",
        "-10,  5,  0,  0,  0,  0,  5,-10,\n",
        "-10, 10, 10, 10, 10, 10, 10,-10,\n",
        "-10,  0, 10, 10, 10, 10,  0,-10,\n",
        "-10,  5,  5, 10, 10,  5,  5,-10,\n",
        "-10,  0,  5, 10, 10,  5,  0,-10,\n",
        "-10,  0,  0,  0,  0,  0,  0,-10,\n",
        "-20,-10,-10,-10,-10,-10,-10,-20]\n",
        "\n",
        "rookstable = [\n",
        "  0,  0,  0,  5,  5,  0,  0,  0,\n",
        " -5,  0,  0,  0,  0,  0,  0, -5,\n",
        " -5,  0,  0,  0,  0,  0,  0, -5,\n",
        " -5,  0,  0,  0,  0,  0,  0, -5,\n",
        " -5,  0,  0,  0,  0,  0,  0, -5,\n",
        " -5,  0,  0,  0,  0,  0,  0, -5,\n",
        "  5, 10, 10, 10, 10, 10, 10,  5,\n",
        " 0,  0,  0,  0,  0,  0,  0,  0]\n",
        "\n",
        "queenstable = [\n",
        "-20,-10,-10, -5, -5,-10,-10,-20,\n",
        "-10,  0,  0,  0,  0,  0,  0,-10,\n",
        "-10,  5,  5,  5,  5,  5,  0,-10,\n",
        "  0,  0,  5,  5,  5,  5,  0, -5,\n",
        " -5,  0,  5,  5,  5,  5,  0, -5,\n",
        "-10,  0,  5,  5,  5,  5,  0,-10,\n",
        "-10,  0,  0,  0,  0,  0,  0,-10,\n",
        "-20,-10,-10, -5, -5,-10,-10,-20]\n",
        "\n",
        "kingstable = [\n",
        " 20, 30, 10,  0,  0, 10, 30, 20,\n",
        " 20, 20,  0,  0,  0,  0, 20, 20,\n",
        "-10,-20,-20,-20,-20,-20,-20,-10,\n",
        "-20,-30,-30,-40,-40,-30,-30,-20,\n",
        "-30,-40,-40,-50,-50,-40,-40,-30,\n",
        "-30,-40,-40,-50,-50,-40,-40,-30,\n",
        "-30,-40,-40,-50,-50,-40,-40,-30,\n",
        "-30,-40,-40,-50,-50,-40,-40,-30]"
      ],
      "execution_count": 5,
      "outputs": []
    },
    {
      "cell_type": "code",
      "metadata": {
        "id": "9YADGHUE6_NC"
      },
      "source": [
        "def alphabeta( alpha, beta, depthleft ):\n",
        "    bestscore = -9999\n",
        "    if( depthleft == 0 ):\n",
        "        return quiesce( alpha, beta )\n",
        "    for move in board.legal_moves:\n",
        "        board.push(move)   \n",
        "        score = -alphabeta( -beta, -alpha, depthleft - 1 )\n",
        "        board.pop()\n",
        "        if( score >= beta ):\n",
        "            return score\n",
        "        if( score > bestscore ):\n",
        "            bestscore = score\n",
        "        if( score > alpha ):\n",
        "            alpha = score   \n",
        "    return bestscore"
      ],
      "execution_count": 6,
      "outputs": []
    },
    {
      "cell_type": "code",
      "metadata": {
        "id": "nZVUbYni7BB8"
      },
      "source": [
        "\n",
        "def quiesce( alpha, beta ):\n",
        "    stand_pat = evaluate_board()\n",
        "    if( stand_pat >= beta ):\n",
        "        return beta\n",
        "    if( alpha < stand_pat ):\n",
        "        alpha = stand_pat\n",
        "\n",
        "    for move in board.legal_moves:\n",
        "        if board.is_capture(move):\n",
        "            board.push(move)        \n",
        "            score = -quiesce( -beta, -alpha )\n",
        "            board.pop()\n",
        "\n",
        "            if( score >= beta ):\n",
        "                return beta\n",
        "            if( score > alpha ):\n",
        "                alpha = score  \n",
        "    return alpha"
      ],
      "execution_count": 7,
      "outputs": []
    },
    {
      "cell_type": "code",
      "metadata": {
        "id": "Wk_l51Da7Ci2"
      },
      "source": [
        "def selectmove(depth):\n",
        "    try:\n",
        "        move = chess.polyglot.MemoryMappedReader(\"bookfish.bin\").weighted_choice(board).move()\n",
        "        return move\n",
        "    except:\n",
        "        bestMove = chess.Move.null()\n",
        "        bestValue = -99999\n",
        "        alpha = -100000\n",
        "        beta = 100000\n",
        "        for move in board.legal_moves:\n",
        "            board.push(move)\n",
        "            boardValue = -alphabeta(-beta, -alpha, depth-1)\n",
        "            if boardValue > bestValue:\n",
        "                bestValue = boardValue;\n",
        "                bestMove = move\n",
        "            if( boardValue > alpha ):\n",
        "                alpha = boardValue\n",
        "            board.pop()\n",
        "        return bestMove"
      ],
      "execution_count": 8,
      "outputs": []
    },
    {
      "cell_type": "markdown",
      "metadata": {
        "id": "6IEWFzVtxzm2"
      },
      "source": [
        "# 2) Minimax vs Random Agent"
      ]
    },
    {
      "cell_type": "code",
      "metadata": {
        "colab": {
          "base_uri": "https://localhost:8080/"
        },
        "id": "YHRtuPy87EXb",
        "outputId": "bc67aa6d-06e9-409a-a2b5-acca7ce978af"
      },
      "source": [
        "env = gym.make('Chess-v0')\n",
        "observation = env.reset()\n",
        "board = observation\n",
        "\n",
        "# variables\n",
        "total_reward = 0.0\n",
        "total_steps = 0\n",
        "moves = []\n",
        "svgs = []\n",
        "\n",
        "while True:\n",
        "  start = timeit.default_timer()\n",
        "  action = selectmove(2)\n",
        "\n",
        "  clear_output(wait=True)\n",
        "  print(f'Action: {action} in {(timeit.default_timer()-start):.3f} sec')\n",
        "  print(env.render(mode='unicode'))\n",
        "  \n",
        "  observation, reward, done, info = env.step(action) \n",
        "  board = observation\n",
        "\n",
        "  moves.append(action)\n",
        "  total_reward += reward\n",
        "  total_steps += 1\n",
        "\n",
        "  svgs.append(chess.svg.board(observation, size=350))\n",
        "    \n",
        "  if done: \n",
        "    clear_output(wait=True)\n",
        "    print(f'Action: {action} in {(timeit.default_timer()-start):.3f} sec')\n",
        "    print(env.render(mode='unicode'))\n",
        "    break;\n",
        "            \n",
        "env.close()\n",
        "write_video(svgs)\n",
        "\n",
        "result = \"\"\n",
        "if(total_reward == 0):\n",
        "  result = \"draw\"\n",
        "if(total_reward == 1):\n",
        "  result = \"won\"\n",
        "if(total_reward == -1):\n",
        "  result = \"lost\"\n",
        "\n",
        "print(f\"{result} in {total_steps} moves: {moves}\")"
      ],
      "execution_count": 9,
      "outputs": [
        {
          "output_type": "stream",
          "text": [
            "Action: f5e6 in 0.080 sec\n",
            "⭘ ⭘ ⭘ ♜ ⭘ ♝ ♚ ♜\n",
            "⭘ ♟ ♟ ⭘ ♟ ⭘ ♟ ♟\n",
            "⭘ ⭘ ⭘ ⭘ ♕ ⭘ ⭘ ⭘\n",
            "⭘ ♛ ⭘ ♟ ♙ ⭘ ⭘ ⭘\n",
            "⭘ ⭘ ⭘ ♗ ⭘ ⭘ ⭘ ⭘\n",
            "⭘ ⭘ ♙ ⭘ ⭘ ♗ ⭘ ⭘\n",
            "⭘ ⭘ ♙ ⭘ ⭘ ♙ ♙ ♙\n",
            "♖ ⭘ ⭘ ⭘ ♖ ⭘ ♔ ⭘\n",
            "won in 43 moves: [Move.from_uci('g1f3'), Move.from_uci('g8f6'), Move.from_uci('b1c3'), Move.from_uci('b8c6'), Move.from_uci('e2e4'), Move.from_uci('d7d5'), Move.from_uci('e4e5'), Move.from_uci('f6e4'), Move.from_uci('d2d4'), Move.from_uci('e4c3'), Move.from_uci('b2c3'), Move.from_uci('c8e6'), Move.from_uci('f1d3'), Move.from_uci('f7f6'), Move.from_uci('e1g1'), Move.from_uci('f6e5'), Move.from_uci('f3e5'), Move.from_uci('c6e5'), Move.from_uci('d4e5'), Move.from_uci('d8d7'), Move.from_uci('c1e3'), Move.from_uci('d7c6'), Move.from_uci('d1d2'), Move.from_uci('e8f7'), Move.from_uci('f1e1'), Move.from_uci('f7g8'), Move.from_uci('a1d1'), Move.from_uci('e6g4'), Move.from_uci('d3e2'), Move.from_uci('g4e6'), Move.from_uci('e2f3'), Move.from_uci('a8d8'), Move.from_uci('e3a7'), Move.from_uci('c6a6'), Move.from_uci('a7d4'), Move.from_uci('a6a2'), Move.from_uci('d2d3'), Move.from_uci('a2a5'), Move.from_uci('d1a1'), Move.from_uci('e6f5'), Move.from_uci('d3f5'), Move.from_uci('a5b5'), Move.from_uci('f5e6')]\n"
          ],
          "name": "stdout"
        }
      ]
    },
    {
      "cell_type": "markdown",
      "metadata": {
        "id": "RU7dUjrvpLWx"
      },
      "source": [
        "# 3) Leela Chess vs. Random Agent"
      ]
    },
    {
      "cell_type": "code",
      "metadata": {
        "colab": {
          "base_uri": "https://localhost:8080/"
        },
        "id": "nYZZZYkmAuAK",
        "outputId": "a0ade4c0-9b1a-4bb1-efb4-34338309f9c4"
      },
      "source": [
        "!git clone https://github.com/Zeta36/chess-alpha-zero"
      ],
      "execution_count": 10,
      "outputs": [
        {
          "output_type": "stream",
          "text": [
            "fatal: destination path 'chess-alpha-zero' already exists and is not an empty directory.\n"
          ],
          "name": "stdout"
        }
      ]
    },
    {
      "cell_type": "code",
      "metadata": {
        "id": "tF4O-JgtpiK0"
      },
      "source": [
        "import os, sys\n",
        "sys.path.append(os.path.join('./chess-alpha-zero', 'src'))\n",
        "\n",
        "from chess_zero.agent.player_chess import ChessPlayer\n",
        "from chess_zero.config import Config, PlayWithHumanConfig\n",
        "from chess_zero.env.chess_env import ChessEnv\n",
        "\n",
        "from chess_zero.agent.model_chess import ChessModel\n",
        "from chess_zero.lib.model_helper import load_best_model_weight\n",
        "\n",
        "import h5py\n",
        "import tensorflow\n",
        "import keras"
      ],
      "execution_count": 11,
      "outputs": []
    },
    {
      "cell_type": "code",
      "metadata": {
        "id": "mbwdaKdfy7hJ"
      },
      "source": [
        "#thread.daemon = False\n",
        "config = Config()\n",
        "PlayWithHumanConfig().update_play_config(config.play)\n",
        "\n",
        "model = ChessModel(config)\n",
        "player = ChessPlayer(config, model.get_pipes(config.play.search_threads))"
      ],
      "execution_count": 12,
      "outputs": []
    },
    {
      "cell_type": "code",
      "metadata": {
        "colab": {
          "base_uri": "https://localhost:8080/"
        },
        "id": "Biv9vj6z0-X0",
        "outputId": "8a4bdf10-6153-4769-be7b-d1b82b058c3d"
      },
      "source": [
        "env = ChessEnv().reset()\n",
        "action = player.action(env, False)\n",
        "\n",
        "env"
      ],
      "execution_count": null,
      "outputs": [
        {
          "output_type": "stream",
          "text": [
            "Exception in thread prediction_worker:\n",
            "Traceback (most recent call last):\n",
            "  File \"/usr/lib/python3.7/threading.py\", line 926, in _bootstrap_inner\n",
            "    self.run()\n",
            "  File \"/usr/lib/python3.7/threading.py\", line 870, in run\n",
            "    self._target(*self._args, **self._kwargs)\n",
            "  File \"./chess-alpha-zero/src/chess_zero/agent/api_chess.py\", line 67, in _predict_batch_worker\n",
            "    policy_ary, value_ary = self.agent_model.model.predict_on_batch(data)\n",
            "AttributeError: 'NoneType' object has no attribute 'predict_on_batch'\n",
            "\n"
          ],
          "name": "stderr"
        }
      ]
    },
    {
      "cell_type": "code",
      "metadata": {
        "colab": {
          "base_uri": "https://localhost:8080/"
        },
        "id": "ekrgozZn1M0V",
        "outputId": "4ca500d4-b26e-41e4-f5b2-87bf49e8acaa"
      },
      "source": [
        "print(f\"bestmove {action}\")"
      ],
      "execution_count": 14,
      "outputs": [
        {
          "output_type": "stream",
          "text": [
            "bestmove f5e6\n"
          ],
          "name": "stdout"
        }
      ]
    },
    {
      "cell_type": "code",
      "metadata": {
        "id": "4zsj1XQI1Xrj"
      },
      "source": [
        ""
      ],
      "execution_count": 14,
      "outputs": []
    }
  ]
}